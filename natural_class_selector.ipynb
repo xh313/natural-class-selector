{
  "nbformat": 4,
  "nbformat_minor": 0,
  "metadata": {
    "colab": {
      "provenance": [],
      "collapsed_sections": [],
      "authorship_tag": "ABX9TyPnqry3VqGFhuat3mrTFwEO",
      "include_colab_link": true
    },
    "kernelspec": {
      "name": "python3",
      "display_name": "Python 3"
    },
    "language_info": {
      "name": "python"
    }
  },
  "cells": [
    {
      "cell_type": "markdown",
      "metadata": {
        "id": "view-in-github",
        "colab_type": "text"
      },
      "source": [
        "<a href=\"https://colab.research.google.com/github/xh313/natural-class-selector/blob/main/natural_class_selector.ipynb\" target=\"_parent\"><img src=\"https://colab.research.google.com/assets/colab-badge.svg\" alt=\"Open In Colab\"/></a>"
      ]
    },
    {
      "cell_type": "code",
      "execution_count": 21,
      "metadata": {
        "id": "tC1ncE5Tko5r"
      },
      "outputs": [],
      "source": [
        "# Run this before anything\n",
        "import pandas as pd\n",
        "import matplotlib.pyplot as plt\n",
        "import regex as re\n",
        "\n",
        "def selector(df, features=dict()):\n",
        "  \"\"\"\n",
        "  Input the features you are looking for as a dictionary.\n",
        "  \"\"\"\n",
        "  try:\n",
        "    for key in features:\n",
        "      # redundancy check\n",
        "      if list(df[df[key] == features[key]].index) == list(df.index):\n",
        "        print(f'The feature {features[key]}{key} is redundant.')\n",
        "      # empty set check\n",
        "      elif list(df[df[key] == features[key]].index) == []:\n",
        "        print(f'The feature {features[key]}{key} returned no phonemes.')\n",
        "        return None\n",
        "      # filtering if things are normal\n",
        "      else:\n",
        "        df = df[df[key] == features[key]]\n",
        "        print(f'Applied {features[key]}{key}: {list(df.index)}')\n",
        "\n",
        "    print('\\n')\n",
        "    return list(df.index)\n",
        "  except IndexError:\n",
        "    # for empty features\n",
        "    pass\n",
        "\n",
        "\n",
        "# Minimally sufficient features to select\n",
        "def minimally_sufficient(df, phones='s'):\n",
        "  \"\"\"\n",
        "  Returns the minimally sufficient selectors to \n",
        "  select out this unique phoneme.\n",
        "  \"\"\"\n",
        "  original = df\n",
        "  selectors = dict()\n",
        "  if type(phones) != list:\n",
        "    phones = [phones]  # listify the string\n",
        "  for phone in phones:\n",
        "    df = original\n",
        "    features = []\n",
        "    featuresdict = dict()\n",
        "    try:\n",
        "      while len(df) != 1:\n",
        "        for feature in list(df.columns):\n",
        "          presence = df.loc[phone, feature]\n",
        "          if (presence != 0) and (list(\n",
        "              df[df[feature] == presence].index) != list(df.index)):\n",
        "            \n",
        "            features.append(f'{presence}{feature}')\n",
        "            #print(f'{phone}:{presence}{feature}')\n",
        "            featuresdict[feature] = presence\n",
        "            df = df[df[feature] == presence]\n",
        "      #print(f'{phone}: {features}')\n",
        "      selectors[phone] = featuresdict\n",
        "    except ValueError:\n",
        "      print('An ambiguity is present in the dataframe.')\n",
        "      pass\n",
        "  return selectors\n",
        "\n",
        "def view_difference(df, phones):\n",
        "  \"\"\"\n",
        "  Takes the feature chart and a 2-tuple (or a 2-tuple of \n",
        "  which the second element is a list)\n",
        "  and returns the differences between them.\n",
        "  \"\"\"\n",
        "  try:\n",
        "    if type(phones[-1]) == list:\n",
        "      phonemes = phones[-1].append(phones[0])\n",
        "      return df.transpose().query(f'`{phones[0]}` != {phones[1]}')[phonemes]\n",
        "    else:\n",
        "      return df.transpose().query(f'`{phones[0]}` != `{phones[1]}`')[[phones[0], \n",
        "                                                               phones[1]]]\n",
        "  except:\n",
        "    print(f\"Unable to detect feature differences for {phones}.\")"
      ]
    },
    {
      "cell_type": "code",
      "source": [
        "# Data\n",
        "\n",
        "df = pd.read_csv('https://github.com/xh313/natural-class-selec\\\n",
        "tor/raw/main/Features.csv').set_index('phoneme')\n",
        "\n",
        "\n",
        "# Selector Example\n",
        "\n",
        "# Manually enter the features\n",
        "selector(df, {#'syllabic': '-',\n",
        "              'consonantal': '+',\n",
        "              'continuant': '-',\n",
        "              'dorsal': '+',\n",
        "              'high': '-'})\n",
        "\n",
        "# Use an automatically generated feature dict\n",
        "#selector(df, minimally_sufficient(df, ['ʃ','s',])['ʃ'])"
      ],
      "metadata": {
        "colab": {
          "base_uri": "https://localhost:8080/"
        },
        "id": "d3N1anpyk4w1",
        "outputId": "1d178dc5-416d-4ac0-bca0-914c8c0a540e"
      },
      "execution_count": 10,
      "outputs": [
        {
          "output_type": "stream",
          "name": "stdout",
          "text": [
            "Applied +consonantal: ['ŋ+', 'ʟ', 'ɫ', 'ɴ', 'ʀ', 'ɲ', 'ʎ', 'ŋ', 'ŋ˗', 'ʟ', 'ʟ̠', 'ɳ', 'ʙ', 'ɭ', 'ɺ', 'ɻ', 'ɽ', 'r', 'n', 'm', 'l', 'ɾ', 'ɱ', 'ʔ', 'ɣ+', 'x+', 'k+', 'ɡ+', 'k+͡x+', 'ɡ+͡ɣ+', 'ħ', 'ʕ', 'ʁ', 'q', 'χ', 'ɢ', 'ɕ', 'ɉ', 'ʝ', 'c', 'ç', 'd͡ʑ', 't͡ɕ', 'ɣ', 'ɣ̠ ', 'x', 'x̠', 'k', 'k̠', 'ɡ', 'ɡ̠', 'ʑ', 'ʈ', 'ɖ', 'ɬ', 'ʐ', 'ɸ', 'ʂ', 'ʒ', 'z', 'v', 't', 'ʃ', 's', 'p', 'f', 'd', 'b', 'θ', 'ɮ', 'ð', 'β', 'd͡ʒ', 'd͡z', 'd͡ɮ', 'd̠͡ɮ̠', 't͡ʃ', 't̠͡ɬ̠', 't͡s', 't͡ɬ', 't̪͡s̪', 't̪͡ɬ̪', 'd̪͡z̪', 'd̪͡ɮ̪', 'ʈ͡ʂ', 'ɖ͡ʐ', 'p͡f', 'b͡v', 'p͡ɸ', 'b͡β', 't̪͡θ', 'd̪͡ð', 'c͡ç', 'ɉ͡ʝ', 'k͡x', 'k̠͡x̠', 'ɡ͡ɣ', 'ɡ̠̠͡ɣ̠', 'q͡χ', 'ɢ͡ʁ', 'ɧ', 'k͡p', 'g͡b', 'p͡t', 'b͡d']\n",
            "Applied -continuant: ['ŋ+', 'ɴ', 'ɲ', 'ŋ', 'ŋ˗', 'ɳ', 'n', 'm', 'ɱ', 'ʔ', 'k+', 'ɡ+', 'k+͡x+', 'ɡ+͡ɣ+', 'q', 'ɢ', 'ɉ', 'c', 'd͡ʑ', 't͡ɕ', 'k', 'k̠', 'ɡ', 'ɡ̠', 'ʈ', 'ɖ', 't', 'p', 'd', 'b', 'd͡ʒ', 'd͡z', 'd͡ɮ', 'd̠͡ɮ̠', 't͡ʃ', 't̠͡ɬ̠', 't͡s', 't͡ɬ', 't̪͡s̪', 't̪͡ɬ̪', 'd̪͡z̪', 'd̪͡ɮ̪', 'ʈ͡ʂ', 'ɖ͡ʐ', 'p͡f', 'b͡v', 'p͡ɸ', 'b͡β', 't̪͡θ', 'd̪͡ð', 'c͡ç', 'ɉ͡ʝ', 'k͡x', 'k̠͡x̠', 'ɡ͡ɣ', 'ɡ̠̠͡ɣ̠', 'q͡χ', 'ɢ͡ʁ', 'k͡p', 'g͡b', 'p͡t', 'b͡d']\n",
            "Applied +dorsal: ['ŋ+', 'ɴ', 'ɲ', 'ŋ', 'ŋ˗', 'k+', 'ɡ+', 'k+͡x+', 'ɡ+͡ɣ+', 'q', 'ɢ', 'ɉ', 'c', 'd͡ʑ', 't͡ɕ', 'k', 'k̠', 'ɡ', 'ɡ̠', 'c͡ç', 'ɉ͡ʝ', 'k͡x', 'k̠͡x̠', 'ɡ͡ɣ', 'ɡ̠̠͡ɣ̠', 'q͡χ', 'ɢ͡ʁ', 'k͡p', 'g͡b']\n",
            "Applied -high: ['ɴ', 'q', 'ɢ', 'q͡χ', 'ɢ͡ʁ']\n",
            "\n",
            "\n"
          ]
        },
        {
          "output_type": "execute_result",
          "data": {
            "text/plain": [
              "['ɴ', 'q', 'ɢ', 'q͡χ', 'ɢ͡ʁ']"
            ]
          },
          "metadata": {},
          "execution_count": 10
        }
      ]
    },
    {
      "cell_type": "code",
      "source": [
        "# minimally sufficient selectors\n",
        "minimally_sufficient(df, ['q','ɴ',])"
      ],
      "metadata": {
        "colab": {
          "base_uri": "https://localhost:8080/"
        },
        "id": "2keIbUHeKnRj",
        "outputId": "2ab48c91-7143-4e7f-835b-cbb1e92c3252"
      },
      "execution_count": 4,
      "outputs": [
        {
          "output_type": "execute_result",
          "data": {
            "text/plain": [
              "{'q': {'syllabic': '-',\n",
              "  'consonantal': '+',\n",
              "  'sonorant': '-',\n",
              "  'continuant': '-',\n",
              "  'delayed release': '-',\n",
              "  'voice': '-',\n",
              "  'constr gl': '-',\n",
              "  'labial': '-',\n",
              "  'coronal': '-',\n",
              "  'high': '-'},\n",
              " 'ɴ': {'syllabic': '-',\n",
              "  'consonantal': '+',\n",
              "  'sonorant': '+',\n",
              "  'continuant': '-',\n",
              "  'labial': '-',\n",
              "  'coronal': '-',\n",
              "  'high': '-'}}"
            ]
          },
          "metadata": {},
          "execution_count": 4
        }
      ]
    },
    {
      "cell_type": "code",
      "source": [
        "# Difference viewer\n",
        "view_difference(df, ('t͡s', 't'))"
      ],
      "metadata": {
        "colab": {
          "base_uri": "https://localhost:8080/",
          "height": 112
        },
        "id": "gEncMH-HUbUC",
        "outputId": "a4315113-e522-4cba-ca35-74891cd56230"
      },
      "execution_count": 23,
      "outputs": [
        {
          "output_type": "execute_result",
          "data": {
            "text/plain": [
              "phoneme         t͡s  t\n",
              "delayed release   +  -\n",
              "strident          +  -"
            ],
            "text/html": [
              "\n",
              "  <div id=\"df-b7788e64-d0a8-4bc0-ae77-a9660b038342\">\n",
              "    <div class=\"colab-df-container\">\n",
              "      <div>\n",
              "<style scoped>\n",
              "    .dataframe tbody tr th:only-of-type {\n",
              "        vertical-align: middle;\n",
              "    }\n",
              "\n",
              "    .dataframe tbody tr th {\n",
              "        vertical-align: top;\n",
              "    }\n",
              "\n",
              "    .dataframe thead th {\n",
              "        text-align: right;\n",
              "    }\n",
              "</style>\n",
              "<table border=\"1\" class=\"dataframe\">\n",
              "  <thead>\n",
              "    <tr style=\"text-align: right;\">\n",
              "      <th>phoneme</th>\n",
              "      <th>t͡s</th>\n",
              "      <th>t</th>\n",
              "    </tr>\n",
              "  </thead>\n",
              "  <tbody>\n",
              "    <tr>\n",
              "      <th>delayed release</th>\n",
              "      <td>+</td>\n",
              "      <td>-</td>\n",
              "    </tr>\n",
              "    <tr>\n",
              "      <th>strident</th>\n",
              "      <td>+</td>\n",
              "      <td>-</td>\n",
              "    </tr>\n",
              "  </tbody>\n",
              "</table>\n",
              "</div>\n",
              "      <button class=\"colab-df-convert\" onclick=\"convertToInteractive('df-b7788e64-d0a8-4bc0-ae77-a9660b038342')\"\n",
              "              title=\"Convert this dataframe to an interactive table.\"\n",
              "              style=\"display:none;\">\n",
              "        \n",
              "  <svg xmlns=\"http://www.w3.org/2000/svg\" height=\"24px\"viewBox=\"0 0 24 24\"\n",
              "       width=\"24px\">\n",
              "    <path d=\"M0 0h24v24H0V0z\" fill=\"none\"/>\n",
              "    <path d=\"M18.56 5.44l.94 2.06.94-2.06 2.06-.94-2.06-.94-.94-2.06-.94 2.06-2.06.94zm-11 1L8.5 8.5l.94-2.06 2.06-.94-2.06-.94L8.5 2.5l-.94 2.06-2.06.94zm10 10l.94 2.06.94-2.06 2.06-.94-2.06-.94-.94-2.06-.94 2.06-2.06.94z\"/><path d=\"M17.41 7.96l-1.37-1.37c-.4-.4-.92-.59-1.43-.59-.52 0-1.04.2-1.43.59L10.3 9.45l-7.72 7.72c-.78.78-.78 2.05 0 2.83L4 21.41c.39.39.9.59 1.41.59.51 0 1.02-.2 1.41-.59l7.78-7.78 2.81-2.81c.8-.78.8-2.07 0-2.86zM5.41 20L4 18.59l7.72-7.72 1.47 1.35L5.41 20z\"/>\n",
              "  </svg>\n",
              "      </button>\n",
              "      \n",
              "  <style>\n",
              "    .colab-df-container {\n",
              "      display:flex;\n",
              "      flex-wrap:wrap;\n",
              "      gap: 12px;\n",
              "    }\n",
              "\n",
              "    .colab-df-convert {\n",
              "      background-color: #E8F0FE;\n",
              "      border: none;\n",
              "      border-radius: 50%;\n",
              "      cursor: pointer;\n",
              "      display: none;\n",
              "      fill: #1967D2;\n",
              "      height: 32px;\n",
              "      padding: 0 0 0 0;\n",
              "      width: 32px;\n",
              "    }\n",
              "\n",
              "    .colab-df-convert:hover {\n",
              "      background-color: #E2EBFA;\n",
              "      box-shadow: 0px 1px 2px rgba(60, 64, 67, 0.3), 0px 1px 3px 1px rgba(60, 64, 67, 0.15);\n",
              "      fill: #174EA6;\n",
              "    }\n",
              "\n",
              "    [theme=dark] .colab-df-convert {\n",
              "      background-color: #3B4455;\n",
              "      fill: #D2E3FC;\n",
              "    }\n",
              "\n",
              "    [theme=dark] .colab-df-convert:hover {\n",
              "      background-color: #434B5C;\n",
              "      box-shadow: 0px 1px 3px 1px rgba(0, 0, 0, 0.15);\n",
              "      filter: drop-shadow(0px 1px 2px rgba(0, 0, 0, 0.3));\n",
              "      fill: #FFFFFF;\n",
              "    }\n",
              "  </style>\n",
              "\n",
              "      <script>\n",
              "        const buttonEl =\n",
              "          document.querySelector('#df-b7788e64-d0a8-4bc0-ae77-a9660b038342 button.colab-df-convert');\n",
              "        buttonEl.style.display =\n",
              "          google.colab.kernel.accessAllowed ? 'block' : 'none';\n",
              "\n",
              "        async function convertToInteractive(key) {\n",
              "          const element = document.querySelector('#df-b7788e64-d0a8-4bc0-ae77-a9660b038342');\n",
              "          const dataTable =\n",
              "            await google.colab.kernel.invokeFunction('convertToInteractive',\n",
              "                                                     [key], {});\n",
              "          if (!dataTable) return;\n",
              "\n",
              "          const docLinkHtml = 'Like what you see? Visit the ' +\n",
              "            '<a target=\"_blank\" href=https://colab.research.google.com/notebooks/data_table.ipynb>data table notebook</a>'\n",
              "            + ' to learn more about interactive tables.';\n",
              "          element.innerHTML = '';\n",
              "          dataTable['output_type'] = 'display_data';\n",
              "          await google.colab.output.renderOutput(dataTable, element);\n",
              "          const docLink = document.createElement('div');\n",
              "          docLink.innerHTML = docLinkHtml;\n",
              "          element.appendChild(docLink);\n",
              "        }\n",
              "      </script>\n",
              "    </div>\n",
              "  </div>\n",
              "  "
            ]
          },
          "metadata": {},
          "execution_count": 23
        }
      ]
    },
    {
      "cell_type": "code",
      "source": [
        "# Spreadsheet Viewer\n",
        "df.loc['t͡s']#.loc[['a', 'ħ', 'χ', 'ɕ', 'ç', 'x', 'x̠', 'ɬ', 'ɸ', 'ʂ', 'ʃ', 's', 'o', 'e', 'y']]"
      ],
      "metadata": {
        "colab": {
          "base_uri": "https://localhost:8080/"
        },
        "id": "HOJSzafAlT41",
        "outputId": "672d7467-749a-4230-c8b1-af8b6ce7e4c2"
      },
      "execution_count": 24,
      "outputs": [
        {
          "output_type": "execute_result",
          "data": {
            "text/plain": [
              "syllabic           -\n",
              "stress             -\n",
              "long               -\n",
              "consonantal        +\n",
              "sonorant           -\n",
              "continuant         -\n",
              "delayed release    +\n",
              "approximant        -\n",
              "tap                -\n",
              "trill              -\n",
              "nasal              -\n",
              "voice              -\n",
              "spread gl          -\n",
              "constr gl          -\n",
              "labial             -\n",
              "round              -\n",
              "labiodental        -\n",
              "coronal            +\n",
              "anterior           +\n",
              "distributed        -\n",
              "strident           +\n",
              "lateral            -\n",
              "dorsal             -\n",
              "high               0\n",
              "low                0\n",
              "front              0\n",
              "back               0\n",
              "tense              0\n",
              "Name: t͡s, dtype: object"
            ]
          },
          "metadata": {},
          "execution_count": 24
        }
      ]
    }
  ]
}